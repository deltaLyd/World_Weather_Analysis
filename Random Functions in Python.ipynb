{
 "cells": [
  {
   "cell_type": "code",
   "execution_count": 1,
   "id": "57853dd1",
   "metadata": {},
   "outputs": [],
   "source": [
    "import random"
   ]
  },
  {
   "cell_type": "code",
   "execution_count": 16,
   "id": "bf9ff9e7",
   "metadata": {},
   "outputs": [
    {
     "data": {
      "text/plain": [
       "0.7648041103265707"
      ]
     },
     "execution_count": 16,
     "metadata": {},
     "output_type": "execute_result"
    }
   ],
   "source": [
    "random.random()"
   ]
  },
  {
   "cell_type": "code",
   "execution_count": 15,
   "id": "37f95f2d",
   "metadata": {},
   "outputs": [
    {
     "data": {
      "text/plain": [
       "48"
      ]
     },
     "execution_count": 15,
     "metadata": {},
     "output_type": "execute_result"
    }
   ],
   "source": [
    "random.randint(-90,90)"
   ]
  },
  {
   "cell_type": "code",
   "execution_count": 11,
   "id": "27156716",
   "metadata": {},
   "outputs": [
    {
     "data": {
      "text/plain": [
       "-9"
      ]
     },
     "execution_count": 11,
     "metadata": {},
     "output_type": "execute_result"
    }
   ],
   "source": [
    "random.randrange(-9,9,2)"
   ]
  },
  {
   "cell_type": "code",
   "execution_count": 12,
   "id": "70233b61",
   "metadata": {},
   "outputs": [
    {
     "data": {
      "text/plain": [
       "-8.956222054212162"
      ]
     },
     "execution_count": 12,
     "metadata": {},
     "output_type": "execute_result"
    }
   ],
   "source": [
    "random.uniform (-10,10)"
   ]
  },
  {
   "cell_type": "code",
   "execution_count": 33,
   "id": "a08ee8a2",
   "metadata": {},
   "outputs": [],
   "source": [
    "# See Python random module documentation online when determining which of these 4 random number generators is best.\n",
    "\n",
    "# Saved screenshot from the curriculum into my Mod. 6 curriculum folder."
   ]
  },
  {
   "cell_type": "code",
   "execution_count": 21,
   "id": "34ce3382",
   "metadata": {},
   "outputs": [
    {
     "name": "stdout",
     "output_type": "stream",
     "text": [
      "11\n"
     ]
    }
   ],
   "source": [
    "x = 1\n",
    "latitudes = []\n",
    "while x < 11:\n",
    "    random_lat = random.randint(-90, 89) + random.random()\n",
    "    latitudes.append(random_lat)\n",
    "    x += 1\n",
    "print (x)    "
   ]
  },
  {
   "cell_type": "code",
   "execution_count": 31,
   "id": "924ae9eb",
   "metadata": {},
   "outputs": [
    {
     "data": {
      "text/plain": [
       "21"
      ]
     },
     "execution_count": 31,
     "metadata": {},
     "output_type": "execute_result"
    }
   ],
   "source": [
    "random.randrange(-90, 90, step=3)"
   ]
  },
  {
   "cell_type": "code",
   "execution_count": 35,
   "id": "fccd1e10",
   "metadata": {},
   "outputs": [
    {
     "data": {
      "text/plain": [
       "65.92200210912978"
      ]
     },
     "execution_count": 35,
     "metadata": {},
     "output_type": "execute_result"
    }
   ],
   "source": [
    "random.uniform(-90, 90)\n",
    "\n",
    "# Looks like this will be the one to use for the Module curriculum and the Challenge."
   ]
  },
  {
   "cell_type": "code",
   "execution_count": 36,
   "id": "57abea57",
   "metadata": {},
   "outputs": [],
   "source": [
    "# Recall that the NumPy module is a numerical mathematics library that can be used to make arrays or matrices of numbers."
   ]
  },
  {
   "cell_type": "code",
   "execution_count": 37,
   "id": "6bddae8d",
   "metadata": {},
   "outputs": [],
   "source": [
    "# Import the NumPy module.\n",
    "import numpy as np"
   ]
  },
  {
   "cell_type": "code",
   "execution_count": 38,
   "id": "f1852084",
   "metadata": {},
   "outputs": [
    {
     "data": {
      "text/plain": [
       "15.00322602764615"
      ]
     },
     "execution_count": 38,
     "metadata": {},
     "output_type": "execute_result"
    }
   ],
   "source": [
    "np.random.uniform(-90.000, 90.000)"
   ]
  },
  {
   "cell_type": "code",
   "execution_count": null,
   "id": "222f9b85",
   "metadata": {},
   "outputs": [],
   "source": []
  },
  {
   "cell_type": "code",
   "execution_count": null,
   "id": "4b595b58",
   "metadata": {},
   "outputs": [],
   "source": []
  },
  {
   "cell_type": "code",
   "execution_count": null,
   "id": "c2743bd8",
   "metadata": {},
   "outputs": [],
   "source": []
  }
 ],
 "metadata": {
  "kernelspec": {
   "display_name": "Python 3",
   "language": "python",
   "name": "python3"
  },
  "language_info": {
   "codemirror_mode": {
    "name": "ipython",
    "version": 3
   },
   "file_extension": ".py",
   "mimetype": "text/x-python",
   "name": "python",
   "nbconvert_exporter": "python",
   "pygments_lexer": "ipython3",
   "version": "3.8.8"
  }
 },
 "nbformat": 4,
 "nbformat_minor": 5
}
